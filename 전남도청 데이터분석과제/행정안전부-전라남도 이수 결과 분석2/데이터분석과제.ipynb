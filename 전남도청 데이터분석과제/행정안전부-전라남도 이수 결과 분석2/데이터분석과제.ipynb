{
  "nbformat": 4,
  "nbformat_minor": 0,
  "metadata": {
    "colab": {
      "private_outputs": true,
      "provenance": [],
      "collapsed_sections": [],
      "toc_visible": true
    },
    "kernelspec": {
      "name": "python3",
      "display_name": "Python 3"
    },
    "language_info": {
      "name": "python"
    }
  },
  "cells": [
    {
      "cell_type": "code",
      "source": [
        "# 한글폰트 사용 in colab\n",
        "%matplotlib inline  \n",
        "\n",
        "import matplotlib as mpl \n",
        "import matplotlib.pyplot as plt \n",
        "import matplotlib.font_manager as fm  \n",
        "\n",
        "!apt-get update -qq\n",
        "!apt-get install fonts-nanum* -qq\n",
        "\n",
        "path = '/usr/share/fonts/truetype/nanum/NanumBarunGothic.ttf' \n",
        "font_name = fm.FontProperties(fname=path, size=10).get_name()\n",
        "print(font_name)\n",
        "plt.rc('font', family=font_name)\n",
        "\n",
        "fm._rebuild()\n",
        "mpl.rcParams['axes.unicode_minus'] = False"
      ],
      "metadata": {
        "id": "DTu7AtIzkw6h"
      },
      "execution_count": null,
      "outputs": []
    },
    {
      "cell_type": "markdown",
      "source": [
        "교수님 위에 코드 실행시키시면 오류가 뜰 수도 있습니다.  \n",
        "# 오류가 생기던 생기지 않던 **런타임 -> 런타임 다시 시작을 최소 1번 실행** 시켜주셔야 그래프에서 한글이 안깨집니다.  \n",
        "감사합니다.!  \n",
        "참고링크 : https://jonsyou.tistory.com/22"
      ],
      "metadata": {
        "id": "AmvFRvoYk3jr"
      }
    },
    {
      "cell_type": "code",
      "source": [
        "from google.colab import drive\n",
        "drive.mount('/content/drive')\n",
        "import pandas as pd\n",
        "import numpy as np\n",
        "import matplotlib.pyplot as plt\n",
        "import matplotlib\n",
        "import seaborn as sns\n",
        "import scipy.stats as sp\n",
        "import scipy\n",
        "plt.style.use('fivethirtyeight')"
      ],
      "metadata": {
        "id": "EeLX0_hMkyrs"
      },
      "execution_count": null,
      "outputs": []
    },
    {
      "cell_type": "code",
      "source": [
        "dataset1 = pd.read_csv(\"/content/drive/MyDrive/datasets/데이터분석과제/전라남도수료기록.csv\",encoding='CP949')\n",
        "dt1_class = pd.read_csv('/content/drive/MyDrive/datasets/데이터분석과제/인재개발원 분류.csv',encoding='CP949')\n",
        "dataset2 = pd.read_csv(\"/content/drive/MyDrive/datasets/데이터분석과제/행정안전부수료기록.csv\",encoding='CP949')\n",
        "dt2_class = pd.read_csv('/content/drive/MyDrive/datasets/데이터분석과제/행정안전부 분류.csv',encoding='CP949')"
      ],
      "metadata": {
        "id": "tBdEp39dcG5e"
      },
      "execution_count": null,
      "outputs": []
    },
    {
      "cell_type": "markdown",
      "source": [
        "# 1.  1. 직무공통, 사회복지, 청렴 등 분야별 이수 결과 분석\n",
        "  - 분류별 선호과목 조사 (수료자 수 조사)\n",
        "  - 소분류별 수료율 조사(수료율 조사)"
      ],
      "metadata": {
        "id": "0D8GLyqIkThi"
      }
    },
    {
      "cell_type": "markdown",
      "source": [
        "##분류별 선호과목 조사 (수료자 수 조사)"
      ],
      "metadata": {
        "id": "ArZ09I6aIMpn"
      }
    },
    {
      "cell_type": "markdown",
      "source": [
        "###전라남도 수료기록 분석"
      ],
      "metadata": {
        "id": "5NpVVNnsrGaK"
      }
    },
    {
      "cell_type": "code",
      "source": [
        "dataset1.head()"
      ],
      "metadata": {
        "id": "rkkUS_0TkMO9"
      },
      "execution_count": null,
      "outputs": []
    },
    {
      "cell_type": "code",
      "source": [
        "dataset1.info()"
      ],
      "metadata": {
        "id": "c0LBlEsWkNyd"
      },
      "execution_count": null,
      "outputs": []
    },
    {
      "cell_type": "markdown",
      "source": [
        "데이터셋을 '과정명'변수를 기준으로 결합하기 위해서 변수를 전처리했습니다. "
      ],
      "metadata": {
        "id": "ViIOACoAoOeZ"
      }
    },
    {
      "cell_type": "code",
      "source": [
        "l1 = []\n",
        "for i in dataset1.과정명.str.split(']'):\n",
        "  if len(i) == 2:\n",
        "    l1.append(i[1].strip())\n",
        "  elif len(i) == 1:\n",
        "    l1.append(i[0].strip())\n",
        "dataset1.과정명 = l1\n",
        "\n",
        "l2=[]\n",
        "for i in dt1_class.과정명.str.split(']'):\n",
        "  if len(i) == 2:\n",
        "    l2.append(i[1].strip())\n",
        "  elif len(i) == 1:\n",
        "    l2.append(i[0].strip())\n",
        "dt1_class.과정명 = l2"
      ],
      "metadata": {
        "id": "SMklB2Dld2WI"
      },
      "execution_count": null,
      "outputs": []
    },
    {
      "cell_type": "code",
      "source": [
        "#1.1.1\n",
        "print('전라남도 수료기록 과정명 변수에 있는 고유한 과정의 수 :',len(dataset1.과정명.unique()))\n",
        "print('인재개발원 분류 과정명 변수에 있는 값의 수 : ',len(dt1_class.과정명.unique()))"
      ],
      "metadata": {
        "id": "6Qy_op2JgjgV"
      },
      "execution_count": null,
      "outputs": []
    },
    {
      "cell_type": "code",
      "source": [
        "#1.1.2\n",
        "dt1_class"
      ],
      "metadata": {
        "id": "7rV6ZkhIotlV"
      },
      "execution_count": null,
      "outputs": []
    },
    {
      "cell_type": "markdown",
      "source": [
        "결과:전라남도 수료기록을 인재개발원 분류 데이터셋과 과정명을 기준으로 결합하여 어떤 과목을 선호하는지 파악하고자 했습니다.  \n",
        "그러나 다음과 같은 이유로 파악할 수 없었습니다.  \n",
        "1.전라남도 수료기록에서 존재하는 모든 과정명에 대한 정확한 분류가 제시되어 있지 않습니다.고유한 값을 확인해 봤더니 전라남도 수료기록에 있는 과정명의 수가 인재개발원 분류에 있는 과정명의 수보다 많이 적습니다.  \n",
        "2.인재개발원 분류 데이터가 대분류 중분류 소분류가 모두 같습니다.분류별 과목선호도를 파악할 수 없습니다.  "
      ],
      "metadata": {
        "id": "5pGppItEqUw7"
      }
    },
    {
      "cell_type": "markdown",
      "source": [
        "### 행정안전부 수료기록 분석"
      ],
      "metadata": {
        "id": "iJHdSnR3rMDO"
      }
    },
    {
      "cell_type": "markdown",
      "source": [
        "#### 데이터 전처리"
      ],
      "metadata": {
        "id": "SUGS1E4ogPkb"
      }
    },
    {
      "cell_type": "code",
      "source": [
        "dataset2.info()"
      ],
      "metadata": {
        "id": "79e1Bj2ksy-R"
      },
      "execution_count": null,
      "outputs": []
    },
    {
      "cell_type": "code",
      "source": [
        "l1 = []\n",
        "\"\"\"\n",
        "for i in dataset2.과정명.str.split(']'):\n",
        "  length.append(len(i))\n",
        "length=pd.Series(length)\n",
        "length.value_counts()\n",
        "\"\"\"\n",
        "for i in dataset2.과정명.str.split(']'):\n",
        "  if len(i) == 1:\n",
        "    l1.append(i[0].strip())\n",
        "  elif len(i) == 2:\n",
        "    l1.append(i[1].strip())\n",
        "    #print(i)\n",
        "  elif len(i) == 3:\n",
        "    l1.append(i[2].strip())\n",
        "dataset2.과정명 = l1"
      ],
      "metadata": {
        "id": "8cfGn5oztAVJ"
      },
      "execution_count": null,
      "outputs": []
    },
    {
      "cell_type": "code",
      "source": [
        "l2=[]\n",
        "for i in dt2_class.과정명.str.split(']'):\n",
        "  if len(i) == 1:\n",
        "    l2.append(i[0].strip())\n",
        "  elif len(i) == 2:\n",
        "    l2.append(i[1].strip())\n",
        "  elif len(i) == 3:\n",
        "    l2.append(i[2].strip())\n",
        "dt2_class.과정명 = l2"
      ],
      "metadata": {
        "id": "2XkD7ZxYtm-4"
      },
      "execution_count": null,
      "outputs": []
    },
    {
      "cell_type": "code",
      "source": [
        "print('행정안전부 수료기록 과정명 변수에 있는 고유한 과정의 수 :',len(dataset2.과정명.unique()))\n",
        "print('행정안전부 분류 과정명 변수에 있는 값의 수 : ',len(dt2_class.과정명.unique()))"
      ],
      "metadata": {
        "id": "R7LwfQiiwQl2"
      },
      "execution_count": null,
      "outputs": []
    },
    {
      "cell_type": "markdown",
      "source": [
        "행정안전부 수료기록에 있는 각각의 관측치의 과정명에 대한 분류가 대부분 제시되어 있어 left join이 가능했습니다."
      ],
      "metadata": {
        "id": "44VE6_bbDxtp"
      }
    },
    {
      "cell_type": "code",
      "source": [
        "행정안전부=pd.merge(dataset2,dt2_class,how='left',left_on = '과정명',right_on='과정명')[['대분류','중분류','소분류','과정명','학습기간','상시학습인정시간','소속','직급','성명','성별','수료여부']]\n",
        "행정안전부[pd.isna(행정안전부.대분류)==True].과정명.unique()"
      ],
      "metadata": {
        "id": "fGbSpc94w5E7"
      },
      "execution_count": null,
      "outputs": []
    },
    {
      "cell_type": "code",
      "source": [
        "행정안전부.info()"
      ],
      "metadata": {
        "id": "qpAu9f1Cef0n"
      },
      "execution_count": null,
      "outputs": []
    },
    {
      "cell_type": "code",
      "source": [
        "행정안전부.head()"
      ],
      "metadata": {
        "id": "SoSWONWYeihQ"
      },
      "execution_count": null,
      "outputs": []
    },
    {
      "cell_type": "markdown",
      "source": [
        "위와 같은 과정명을 가진 관측치들은 left join후 정확한 대분류,중분류,소분류 널값었습니다.  \n",
        "행정안전부 측에서 제공한 데이터셋에 위에 제시된 과정명에 대한 분류가 제시되지 않았기 때문입니다.  \n",
        "이 경우 대,중,소분류가 Null값이 되어 분석을 위해 처리해야 합니다.  \n",
        "저는 다음과 같은 처리를 하였습니다.\n",
        "1. (집합연계),(행안부 대상),(나라콘텐츠)와 같은 괄호안의 키워드가 같은 자료들의 최빈값을 파악하여 대분류,중분류,소분류의 널값을 채워넣었습니다.\n",
        "2. 키워드가 있으나 최빈값을 구할 수 없는 경우는 삭제했습니다.(해당 키워드를 포함하며 분류가 되어있는 다른 관측치가 없기 때문입니다.)\n",
        "3. 키워드가 없는 관측치의 경우 삭제했습니다.\n",
        "\n"
      ],
      "metadata": {
        "id": "wYjMq94wDNk5"
      }
    },
    {
      "cell_type": "code",
      "source": [
        "a = {'집합연계':[],'행안부 대상':[],'나라콘텐츠':[],'MOOC':[],'마이크로러닝':[],'모바일':[],'자치인재원':[]}\n",
        "for i in a.keys():\n",
        "  print(i)\n",
        "  for j in range(len(행정안전부)):\n",
        "    if i in 행정안전부.과정명[j]:\n",
        "      a[i].append(j)"
      ],
      "metadata": {
        "id": "_WbgFovMzVYR"
      },
      "execution_count": null,
      "outputs": []
    },
    {
      "cell_type": "code",
      "source": [
        "b = {'대분류':[],'중분류':[],'소분류':[]}\n",
        "for i in b:\n",
        "  for j in a.keys():\n",
        "    if len(행정안전부[i][a[j]].value_counts().index) == 0:\n",
        "      #대분류,중분류,소분류를 구할 수 없는 키워드는 값을 0으로\n",
        "      b[i].append(0)\n",
        "    else :\n",
        "      b[i].append(행정안전부[i][a[j]].value_counts().index[0])"
      ],
      "metadata": {
        "id": "U-6g9VOaFv16"
      },
      "execution_count": null,
      "outputs": []
    },
    {
      "cell_type": "code",
      "source": [
        "b"
      ],
      "metadata": {
        "id": "-zO0m4E5FwLd"
      },
      "execution_count": null,
      "outputs": []
    },
    {
      "cell_type": "code",
      "source": [
        "idx = {'집합연계':[],'행안부 대상':[],'나라콘텐츠':[],'MOOC':[],'마이크로러닝':[],'모바일':[],'자치인재원':[]}\n",
        "\n",
        "for i in 행정안전부.loc[pd.isna(행정안전부.대분류)==True,:].index:\n",
        "    for j in idx.keys():\n",
        "      if j in 행정안전부.loc[i,'과정명']:\n",
        "        idx[j].append(i)\n",
        "        #print(i,j)"
      ],
      "metadata": {
        "id": "qmn_NjV8KcTV"
      },
      "execution_count": null,
      "outputs": []
    },
    {
      "cell_type": "code",
      "source": [
        "행정안전부.loc[idx['집합연계'],:]"
      ],
      "metadata": {
        "id": "HcKgY_ybTcmT"
      },
      "execution_count": null,
      "outputs": []
    },
    {
      "cell_type": "code",
      "source": [
        "h=0\n",
        "for i in idx.values():\n",
        "  for j in ['대분류','중분류','소분류']:\n",
        "    행정안전부.loc[i,j] = b[j][h]\n",
        "  h+=1"
      ],
      "metadata": {
        "id": "sXPlSZ96V8l2"
      },
      "execution_count": null,
      "outputs": []
    },
    {
      "cell_type": "code",
      "source": [
        "print('키워드가 있으나 최빈값을 구할 수 없는 관측치의 수 : ',len(행정안전부.loc[idx['모바일'],:]))\n",
        "print('키워드가 없는 관측치의 수 :',len(행정안전부[pd.isna(행정안전부.대분류)==True]))\n"
      ],
      "metadata": {
        "id": "74_DKzpEcbt5"
      },
      "execution_count": null,
      "outputs": []
    },
    {
      "cell_type": "code",
      "source": [
        "행정안전부=행정안전부.drop(index=행정안전부.loc[idx['모바일'],:].index)\n",
        "행정안전부=행정안전부.drop(index=행정안전부[pd.isna(행정안전부.대분류)==True].index)"
      ],
      "metadata": {
        "id": "pxnpnXOXZUQK"
      },
      "execution_count": null,
      "outputs": []
    },
    {
      "cell_type": "code",
      "source": [
        "행정안전부=행정안전부.reset_index(drop=True)\n",
        "행정안전부"
      ],
      "metadata": {
        "id": "Sn-3YWJOde5B"
      },
      "execution_count": null,
      "outputs": []
    },
    {
      "cell_type": "code",
      "source": [
        "행정안전부.info()"
      ],
      "metadata": {
        "id": "TvWFB3QydyT5"
      },
      "execution_count": null,
      "outputs": []
    },
    {
      "cell_type": "markdown",
      "source": [
        "결과적으로 , 키워드값을 기준으로 대분류,중분류,소분류를 채운 널값이 없는 행정안전부 수료기록 데이터를 완성했습니다.  \n",
        "대분류~수료여부까지 총 11개의 columns이 있습니다.  \n",
        "관측치는 총 227796개 입니다.\n"
      ],
      "metadata": {
        "id": "0e77KrzLezEI"
      }
    },
    {
      "cell_type": "code",
      "source": [
        "행정안전부"
      ],
      "metadata": {
        "id": "-p44WmU3fQmz"
      },
      "execution_count": null,
      "outputs": []
    },
    {
      "cell_type": "markdown",
      "source": [
        "#### 분류별 선호과목 분석 (수료자 수 분석)"
      ],
      "metadata": {
        "id": "Pfx9t36WgHPB"
      }
    },
    {
      "cell_type": "code",
      "source": [
        "plt.figure(figsize=(15,10))\n",
        "plt.title('행정안전부 수료기록 데이터의 중분류별 빈도수')\n",
        "a=행정안전부.중분류.value_counts()\n",
        "ax=sns.barplot(x=a.index,y=a)\n",
        "ax.set_xlabel(\"빈도수\")"
      ],
      "metadata": {
        "id": "GAGOpkFmqD1d"
      },
      "execution_count": null,
      "outputs": []
    },
    {
      "cell_type": "code",
      "source": [
        "#행정안전부 전체 데이터에 대한 과목별 빈도수 \n",
        "#1.1.4\n",
        "percent_5=int(len(행정안전부.과정명.value_counts())*0.05)\n",
        "plt.figure(figsize=(30,20))\n",
        "plt.title('행정안전부 수료기록 데이터의 빈도수 상위5% 과목들')\n",
        "a=행정안전부.과정명.value_counts()[:percent_5]\n",
        "ax=sns.barplot(y=a[:percent_5].index,x=a[:percent_5])\n",
        "ax.set_xlabel(\"빈도수\")"
      ],
      "metadata": {
        "id": "C9LqHJvlnpqV"
      },
      "execution_count": null,
      "outputs": []
    },
    {
      "cell_type": "code",
      "source": [
        "#중분류가 직무공통인 경우 상위 5%과목의 빈도수\n",
        "중분류 = '직무공통'\n",
        "percent_5=int(len(행정안전부[행정안전부['중분류']==중분류].과정명.value_counts())*0.05)\n",
        "plt.figure(figsize=(30,20))\n",
        "plt.title('중분류가 {}인 관측치들의 상위5% 과목별 빈도수'.format(중분류))\n",
        "ax=sns.barplot(y=행정안전부[행정안전부.중분류==중분류].과정명.value_counts()[:percent_5].index,x=행정안전부[행정안전부.중분류==중분류].과정명.value_counts()[:percent_5])\n",
        "ax.set_xlabel(\"빈도수\")\n"
      ],
      "metadata": {
        "id": "IJ-0C0K_h1UE"
      },
      "execution_count": null,
      "outputs": []
    },
    {
      "cell_type": "code",
      "source": [
        "#중분류가 사회복지 경우 상위 20개 과목의 빈도수\n",
        "중분류 = '사회복지'\n",
        "percent_5=int(len(행정안전부[행정안전부['중분류']==중분류].과정명.value_counts())*0.05)\n",
        "if percent_5>=5:\n",
        "  plt.figure(figsize=(20,15))\n",
        "  plt.title('중분류가 {}인 관측치들의 과목별 빈도수'.format(중분류))\n",
        "  ax=sns.barplot(y=행정안전부[행정안전부.중분류==중분류].과정명.value_counts()[:percent_5].index,x=행정안전부[행정안전부.중분류==중분류].과정명.value_counts()[:percent_5])\n",
        "  ax.set_xlabel(\"빈도수\")\n",
        "else:\n",
        "  plt.figure(figsize=(20,15))\n",
        "  plt.title('중분류가 {}인 관측치들의 과목별 빈도수'.format(중분류))\n",
        "  ax=sns.barplot(y=행정안전부[행정안전부.중분류==중분류].과정명.value_counts()[:20].index,x=행정안전부[행정안전부.중분류==중분류].과정명.value_counts()[:20])\n",
        "  ax.set_xlabel(\"빈도수\")\n"
      ],
      "metadata": {
        "id": "WAC57qdxgdcG"
      },
      "execution_count": null,
      "outputs": []
    },
    {
      "cell_type": "code",
      "source": [
        "#중분류가 청렴인 경우 상위 20개 과목의 빈도수\n",
        "중분류 = '청렴'\n",
        "percent_5=int(len(행정안전부[행정안전부['중분류']==중분류].과정명.value_counts())*0.05)\n",
        "if percent_5>=5:\n",
        "  plt.figure(figsize=(20,15))\n",
        "  plt.title('중분류가 {}인 관측치들의 상위5% 과목별 빈도수'.format(중분류))\n",
        "  ax=sns.barplot(y=행정안전부[행정안전부.중분류==중분류].과정명.value_counts()[:percent_5].index,x=행정안전부[행정안전부.중분류==중분류].과정명.value_counts()[:percent_5])\n",
        "  ax.set_xlabel(\"빈도수\")\n",
        "else:\n",
        "  plt.figure(figsize=(20,15))\n",
        "  plt.title('중분류가 {}인 관측치들의 상위 20개 과목별 빈도수'.format(중분류))\n",
        "  ax=sns.barplot(y=행정안전부[행정안전부.중분류==중분류].과정명.value_counts()[:20].index,x=행정안전부[행정안전부.중분류==중분류].과정명.value_counts()[:20])\n",
        "  ax.set_xlabel(\"빈도수\")\n"
      ],
      "metadata": {
        "id": "UN8D3NdNqJVs"
      },
      "execution_count": null,
      "outputs": []
    },
    {
      "cell_type": "code",
      "source": [
        "#1.1.5\n",
        "중분류 = '정보화'\n",
        "percent_5=int(len(행정안전부[행정안전부['중분류']==중분류].과정명.value_counts())*0.05)\n",
        "if percent_5>=5:\n",
        "  plt.figure(figsize=(20,15))\n",
        "  plt.title('중분류가 {}인 관측치들의 상위5% 과목별 빈도수'.format(중분류))\n",
        "  ax=sns.barplot(y=행정안전부[행정안전부.중분류==중분류].과정명.value_counts()[:percent_5].index,x=행정안전부[행정안전부.중분류==중분류].과정명.value_counts()[:percent_5])\n",
        "  ax.set_xlabel(\"빈도수\")\n",
        "else:\n",
        "  plt.figure(figsize=(20,15))\n",
        "  plt.title('중분류가 {}인 관측치들의 상위 20개 과목별 빈도수'.format(중분류))\n",
        "  ax=sns.barplot(y=행정안전부[행정안전부.중분류==중분류].과정명.value_counts()[:20].index,x=행정안전부[행정안전부.중분류==중분류].과정명.value_counts()[:20])\n",
        "  ax.set_xlabel(\"빈도수\")"
      ],
      "metadata": {
        "id": "Aw2riW_IrM8u"
      },
      "execution_count": null,
      "outputs": []
    },
    {
      "cell_type": "code",
      "source": [
        "중분류 = '정보화'\n",
        "행정안전부[행정안전부.중분류==중분류].과정명.value_counts()"
      ],
      "metadata": {
        "id": "kFUTvMe7BtQJ"
      },
      "execution_count": null,
      "outputs": []
    },
    {
      "cell_type": "code",
      "source": [
        "#1.1.6\n",
        "중분류 = '외국어'\n",
        "percent_5=int(len(행정안전부[행정안전부['중분류']==중분류].과정명.value_counts())*0.05)\n",
        "plt.figure(figsize=(20,15))\n",
        "plt.title('중분류가 {}인 관측치들의 과목별 빈도수'.format(중분류))\n",
        "ax=sns.barplot(y=행정안전부[행정안전부.중분류==중분류].과정명.value_counts().index,x=행정안전부[행정안전부.중분류==중분류].과정명.value_counts())\n",
        "ax.set_xlabel(\"빈도수\")"
      ],
      "metadata": {
        "id": "1dc43yZFriVz"
      },
      "execution_count": null,
      "outputs": []
    },
    {
      "cell_type": "code",
      "source": [],
      "metadata": {
        "id": "SzcKwQ4jCaT4"
      },
      "execution_count": null,
      "outputs": []
    },
    {
      "cell_type": "code",
      "source": [
        "중분류 = '외국어'\n",
        "행정안전부[행정안전부.중분류==중분류].과정명.value_counts()"
      ],
      "metadata": {
        "id": "JpZWKWGjCLGK"
      },
      "execution_count": null,
      "outputs": []
    },
    {
      "cell_type": "code",
      "source": [
        "plt.figure(figsize=(20,15))\n",
        "plt.title('행정안전부 수료기록 데이터의 소분류별 빈도수')\n",
        "a=행정안전부.소분류.value_counts()\n",
        "ax=sns.barplot(x=a.index,y=a)\n",
        "ax.set_xlabel(\"빈도수\")"
      ],
      "metadata": {
        "id": "wjgRoeA8s6i9"
      },
      "execution_count": null,
      "outputs": []
    },
    {
      "cell_type": "code",
      "source": [
        "#1.1.7\n",
        "plt.figure(figsize=(20,15))\n",
        "plt.title('행정안전부 수료기록 데이터의 소분류별 비율')\n",
        "행정안전부.groupby('소분류').count()['수료여부'].plot(kind='pie',explode=[0,0,0,0,0.1,0,0,0,0],autopct='%1.1f%%')"
      ],
      "metadata": {
        "id": "M7FP4IinKfXP"
      },
      "execution_count": null,
      "outputs": []
    },
    {
      "cell_type": "code",
      "source": [
        "# 1.1.8\n",
        "소분류 = '인권'\n",
        "percent_5=int(len(행정안전부[행정안전부['소분류']==소분류].과정명.value_counts())*0.05)\n",
        "if percent_5>5:\n",
        "  plt.figure(figsize=(20,15))\n",
        "  plt.title('소분류가 {}인 관측치들의 상위5% 과목별 빈도수'.format(소분류))\n",
        "  ax=sns.barplot(y=행정안전부[행정안전부.소분류==소분류].과정명.value_counts()[:percent_5].index,x=행정안전부[행정안전부.소분류==소분류].과정명.value_counts()[:percent_5])\n",
        "  ax.set_xlabel(\"빈도수\")\n",
        "else: \n",
        "  cut=len(행정안전부[행정안전부.소분류==소분류].과정명.value_counts())\n",
        "  plt.figure(figsize=(20,15))\n",
        "  plt.title('소분류가 {}인 관측치들의 과목별 빈도수'.format(소분류))\n",
        "  ax=sns.barplot(y=행정안전부[행정안전부.소분류==소분류].과정명.value_counts()[:cut].index,x=행정안전부[행정안전부.소분류==소분류].과정명.value_counts()[:cut])\n",
        "  ax.set_xlabel(\"빈도수\")\n",
        "  print(len(행정안전부[행정안전부.소분류==소분류].과정명.value_counts()))\n"
      ],
      "metadata": {
        "id": "XofKXJdrOrfG"
      },
      "execution_count": null,
      "outputs": []
    },
    {
      "cell_type": "code",
      "source": [
        "소분류 = '정책'\n",
        "percent_5=int(len(행정안전부[행정안전부['소분류']==소분류].과정명.value_counts())*0.05)\n",
        "if percent_5>5:\n",
        "  plt.figure(figsize=(20,15))\n",
        "  plt.title('소분류가 {}인 관측치들의 상위5% 과목별 빈도수'.format(소분류))\n",
        "  ax=sns.barplot(y=행정안전부[행정안전부.소분류==소분류].과정명.value_counts()[:percent_5].index,x=행정안전부[행정안전부.소분류==소분류].과정명.value_counts()[:percent_5])\n",
        "  ax.set_xlabel(\"빈도수\")\n",
        "else: \n",
        "  cut=len(행정안전부[행정안전부.소분류==소분류].과정명.value_counts())\n",
        "  plt.figure(figsize=(20,15))\n",
        "  plt.title('소분류가 {}인 관측치들의 상위 20개 과목별 빈도수'.format(소분류))\n",
        "  ax=sns.barplot(y=행정안전부[행정안전부.소분류==소분류].과정명.value_counts()[:cut].index,x=행정안전부[행정안전부.소분류==소분류].과정명.value_counts()[:cut])\n",
        "  ax.set_xlabel(\"빈도수\")\n",
        "  print(len(행정안전부[행정안전부.소분류==소분류].과정명.value_counts()))\n"
      ],
      "metadata": {
        "id": "4qO0QBLlxzaF"
      },
      "execution_count": null,
      "outputs": []
    },
    {
      "cell_type": "code",
      "source": [
        "소분류 = '안보'\n",
        "percent_5=int(len(행정안전부[행정안전부['소분류']==소분류].과정명.value_counts())*0.05)\n",
        "plt.figure(figsize=(20,15))\n",
        "if percent_5>=5:\n",
        "  plt.title('소분류가 {}인 관측치들의 상위5% 과목별 빈도수'.format(소분류))\n",
        "  ax=sns.barplot(y=행정안전부[행정안전부.소분류==소분류].과정명.value_counts()[:percent_5].index,x=행정안전부[행정안전부.소분류==소분류].과정명.value_counts()[:percent_5])\n",
        "  ax.set_xlabel(\"빈도수\")\n",
        "  print(percent_5)\n",
        "elif len(행정안전부[행정안전부.소분류==소분류].과정명.value_counts()) <= 10:\n",
        "  k=len(행정안전부[행정안전부.소분류==소분류].과정명.value_counts())\n",
        "  plt.title('소분류가 {}인 관측치들의 과목별 빈도수'.format(소분류))\n",
        "  ax=sns.barplot(y=행정안전부[행정안전부.소분류==소분류].과정명.value_counts()[:k].index,x=행정안전부[행정안전부.소분류==소분류].과정명.value_counts()[:k])\n",
        "  ax.set_xlabel(\"빈도수\")\n",
        "  print(len(행정안전부[행정안전부.소분류==소분류].과정명.value_counts()))\n",
        "else:\n",
        "  plt.title('소분류가 {}인 관측치들의 상위 20개 과목별 빈도수'.format(소분류))\n",
        "  ax=sns.barplot(y=행정안전부[행정안전부.소분류==소분류].과정명.value_counts()[:20].index,x=행정안전부[행정안전부.소분류==소분류].과정명.value_counts()[:20])\n",
        "  ax.set_xlabel(\"빈도수\")\n",
        "  print(len(행정안전부[행정안전부.소분류==소분류].과정명.value_counts()))"
      ],
      "metadata": {
        "id": "b6MA-Jbk1HCe"
      },
      "execution_count": null,
      "outputs": []
    },
    {
      "cell_type": "code",
      "source": [
        "소분류 = '소양'\n",
        "percent_5=int(len(행정안전부[행정안전부['소분류']==소분류].과정명.value_counts())*0.05)\n",
        "plt.figure(figsize=(20,15))\n",
        "if percent_5>=5:\n",
        "  plt.title('소분류가 {}인 관측치들의 상위5% 과목별 빈도수'.format(소분류))\n",
        "  ax=sns.barplot(y=행정안전부[행정안전부.소분류==소분류].과정명.value_counts()[:percent_5].index,x=행정안전부[행정안전부.소분류==소분류].과정명.value_counts()[:percent_5])\n",
        "  ax.set_xlabel(\"빈도수\")\n",
        "  print(percent_5)\n",
        "elif len(행정안전부[행정안전부.소분류==소분류].과정명.value_counts()) <= 10:\n",
        "  k=len(행정안전부[행정안전부.소분류==소분류].과정명.value_counts())\n",
        "  plt.title('소분류가 {}인 관측치들의 과목별 빈도수'.format(소분류))\n",
        "  ax=sns.barplot(y=행정안전부[행정안전부.소분류==소분류].과정명.value_counts()[:k].index,x=행정안전부[행정안전부.소분류==소분류].과정명.value_counts()[:k])\n",
        "  ax.set_xlabel(\"빈도수\")\n",
        "  print(len(행정안전부[행정안전부.소분류==소분류].과정명.value_counts()))\n",
        "else:\n",
        "  plt.title('소분류가 {}인 관측치들의 상위 20개 과목별 빈도수'.format(소분류))\n",
        "  ax=sns.barplot(y=행정안전부[행정안전부.소분류==소분류].과정명.value_counts()[:20].index,x=행정안전부[행정안전부.소분류==소분류].과정명.value_counts()[:20])\n",
        "  ax.set_xlabel(\"빈도수\")\n",
        "  print(len(행정안전부[행정안전부.소분류==소분류].과정명.value_counts()))"
      ],
      "metadata": {
        "id": "YkpnY8rC1ZuK"
      },
      "execution_count": null,
      "outputs": []
    },
    {
      "cell_type": "code",
      "source": [
        "소분류 = '정보화'\n",
        "percent_5=int(len(행정안전부[행정안전부['소분류']==소분류].과정명.value_counts())*0.05)\n",
        "plt.figure(figsize=(20,15))\n",
        "if percent_5>=5:\n",
        "  plt.title('소분류가 {}인 관측치들의 상위5% 과목별 빈도수'.format(소분류))\n",
        "  ax=sns.barplot(y=행정안전부[행정안전부.소분류==소분류].과정명.value_counts()[:percent_5].index,x=행정안전부[행정안전부.소분류==소분류].과정명.value_counts()[:percent_5])\n",
        "  ax.set_xlabel(\"빈도수\")\n",
        "  print(percent_5)\n",
        "elif len(행정안전부[행정안전부.소분류==소분류].과정명.value_counts()) <= 10:\n",
        "  k=len(행정안전부[행정안전부.소분류==소분류].과정명.value_counts())\n",
        "  plt.title('소분류가 {}인 관측치들의 과목별 빈도수'.format(소분류))\n",
        "  ax=sns.barplot(y=행정안전부[행정안전부.소분류==소분류].과정명.value_counts()[:k].index,x=행정안전부[행정안전부.소분류==소분류].과정명.value_counts()[:k])\n",
        "  ax.set_xlabel(\"빈도수\")\n",
        "  print(len(행정안전부[행정안전부.소분류==소분류].과정명.value_counts()))\n",
        "else:\n",
        "  plt.title('소분류가 {}인 관측치들의 상위 20개 과목별 빈도수'.format(소분류))\n",
        "  ax=sns.barplot(y=행정안전부[행정안전부.소분류==소분류].과정명.value_counts()[:20].index,x=행정안전부[행정안전부.소분류==소분류].과정명.value_counts()[:20])\n",
        "  ax.set_xlabel(\"빈도수\")\n",
        "  print(len(행정안전부[행정안전부.소분류==소분류].과정명.value_counts()))"
      ],
      "metadata": {
        "id": "RvMgxmQz1I4j"
      },
      "execution_count": null,
      "outputs": []
    },
    {
      "cell_type": "code",
      "source": [
        "소분류 = '성인지'\n",
        "percent_5=int(len(행정안전부[행정안전부['소분류']==소분류].과정명.value_counts())*0.05)\n",
        "plt.figure(figsize=(20,15))\n",
        "if percent_5>=5:\n",
        "  plt.title('소분류가 {}인 관측치들의 상위5% 과목별 빈도수'.format(소분류))\n",
        "  ax=sns.barplot(y=행정안전부[행정안전부.소분류==소분류].과정명.value_counts()[:percent_5].index,x=행정안전부[행정안전부.소분류==소분류].과정명.value_counts()[:percent_5])\n",
        "  ax.set_xlabel(\"빈도수\")\n",
        "  print(percent_5)\n",
        "elif len(행정안전부[행정안전부.소분류==소분류].과정명.value_counts()) <= 10:\n",
        "  k=len(행정안전부[행정안전부.소분류==소분류].과정명.value_counts())\n",
        "  plt.title('소분류가 {}인 관측치들의 과목별 빈도수'.format(소분류))\n",
        "  ax=sns.barplot(y=행정안전부[행정안전부.소분류==소분류].과정명.value_counts()[:k].index,x=행정안전부[행정안전부.소분류==소분류].과정명.value_counts()[:k])\n",
        "  ax.set_xlabel(\"빈도수\")\n",
        "  print(len(행정안전부[행정안전부.소분류==소분류].과정명.value_counts()))\n",
        "else:\n",
        "  plt.title('소분류가 {}인 관측치들의 상위 20개 과목별 빈도수'.format(소분류))\n",
        "  ax=sns.barplot(y=행정안전부[행정안전부.소분류==소분류].과정명.value_counts()[:20].index,x=행정안전부[행정안전부.소분류==소분류].과정명.value_counts()[:20])\n",
        "  ax.set_xlabel(\"빈도수\")\n",
        "  print(len(행정안전부[행정안전부.소분류==소분류].과정명.value_counts()))"
      ],
      "metadata": {
        "id": "TVj0yvW03dBA"
      },
      "execution_count": null,
      "outputs": []
    },
    {
      "cell_type": "code",
      "source": [
        "소분류 = '외국어'\n",
        "percent_5=int(len(행정안전부[행정안전부['소분류']==소분류].과정명.value_counts())*0.05)\n",
        "plt.figure(figsize=(20,15))\n",
        "if percent_5>=5:\n",
        "  plt.title('소분류가 {}인 관측치들의 상위5% 과목별 빈도수'.format(소분류))\n",
        "  ax=sns.barplot(y=행정안전부[행정안전부.소분류==소분류].과정명.value_counts()[:percent_5].index,x=행정안전부[행정안전부.소분류==소분류].과정명.value_counts()[:percent_5])\n",
        "  ax.set_xlabel(\"빈도수\")\n",
        "  print(percent_5)\n",
        "elif len(행정안전부[행정안전부.소분류==소분류].과정명.value_counts()) <= 10:\n",
        "  k=len(행정안전부[행정안전부.소분류==소분류].과정명.value_counts())\n",
        "  plt.title('소분류가 {}인 관측치들의 과목별 빈도수'.format(소분류))\n",
        "  ax=sns.barplot(y=행정안전부[행정안전부.소분류==소분류].과정명.value_counts()[:k].index,x=행정안전부[행정안전부.소분류==소분류].과정명.value_counts()[:k])\n",
        "  ax.set_xlabel(\"빈도수\")\n",
        "  print(len(행정안전부[행정안전부.소분류==소분류].과정명.value_counts()))\n",
        "else:\n",
        "  plt.title('소분류가 {}인 관측치들의 상위 20개 과목별 빈도수'.format(소분류))\n",
        "  ax=sns.barplot(y=행정안전부[행정안전부.소분류==소분류].과정명.value_counts()[:20].index,x=행정안전부[행정안전부.소분류==소분류].과정명.value_counts()[:20])\n",
        "  ax.set_xlabel(\"빈도수\")\n",
        "  print(len(행정안전부[행정안전부.소분류==소분류].과정명.value_counts()))"
      ],
      "metadata": {
        "id": "dfZrGTkT3enz"
      },
      "execution_count": null,
      "outputs": []
    },
    {
      "cell_type": "code",
      "source": [
        "소분류 = '재난'\n",
        "percent_5=int(len(행정안전부[행정안전부['소분류']==소분류].과정명.value_counts())*0.05)\n",
        "plt.figure(figsize=(20,15))\n",
        "if percent_5>=5:\n",
        "  plt.title('소분류가 {}인 관측치들의 상위5% 과목별 빈도수'.format(소분류))\n",
        "  ax=sns.barplot(y=행정안전부[행정안전부.소분류==소분류].과정명.value_counts()[:percent_5].index,x=행정안전부[행정안전부.소분류==소분류].과정명.value_counts()[:percent_5])\n",
        "  ax.set_xlabel(\"빈도수\")\n",
        "  print(1,percent_5)\n",
        "elif len(행정안전부[행정안전부.소분류==소분류].과정명.value_counts()) <=10:\n",
        "  k=len(행정안전부[행정안전부.소분류==소분류].과정명.value_counts())\n",
        "  plt.title('소분류가 {}인 관측치들의 과목별 빈도수'.format(소분류))\n",
        "  ax=sns.barplot(y=행정안전부[행정안전부.소분류==소분류].과정명.value_counts()[:k].index,x=행정안전부[행정안전부.소분류==소분류].과정명.value_counts()[:k])\n",
        "  ax.set_xlabel(\"빈도수\")\n",
        "  print(2,len(행정안전부[행정안전부.소분류==소분류].과정명.value_counts()))\n",
        "else:\n",
        "  plt.title('소분류가 {}인 관측치들의 상위 20개 과목별 빈도수'.format(소분류))\n",
        "  ax=sns.barplot(y=행정안전부[행정안전부.소분류==소분류].과정명.value_counts()[:20].index,x=행정안전부[행정안전부.소분류==소분류].과정명.value_counts()[:20])\n",
        "  ax.set_xlabel(\"빈도수\")\n",
        "  print(3,len(행정안전부[행정안전부.소분류==소분류].과정명.value_counts()))"
      ],
      "metadata": {
        "id": "tyj7pMyi3f8m"
      },
      "execution_count": null,
      "outputs": []
    },
    {
      "cell_type": "markdown",
      "source": [
        "## 중분류별,소분류별 수료율 분석(수료율 분석)\n"
      ],
      "metadata": {
        "id": "cGxZZNwI8EAi"
      }
    },
    {
      "cell_type": "markdown",
      "source": [
        "### 데이터 전처리"
      ],
      "metadata": {
        "id": "ClUM5PI29gI9"
      }
    },
    {
      "cell_type": "code",
      "source": [
        "행정안전부.수료여부.value_counts()"
      ],
      "metadata": {
        "id": "SBNsPgq78wS8"
      },
      "execution_count": null,
      "outputs": []
    },
    {
      "cell_type": "code",
      "source": [
        "행정안전부['수료여부']=행정안전부['수료여부'].map({\"수료\":1,\"미수료\":0,\"취소\":2,\"진행중\":3,\"미승인\":4})"
      ],
      "metadata": {
        "id": "TxQK2M5b9iXb"
      },
      "execution_count": null,
      "outputs": []
    },
    {
      "cell_type": "code",
      "source": [
        "행정안전부"
      ],
      "metadata": {
        "id": "FG3PF6rJ9jOI"
      },
      "execution_count": null,
      "outputs": []
    },
    {
      "cell_type": "code",
      "source": [
        "df1=행정안전부.loc[(행정안전부.수료여부 == 1) | (행정안전부.수료여부 == 0),:]\n",
        "df1"
      ],
      "metadata": {
        "id": "EDkI1z7aASaG"
      },
      "execution_count": null,
      "outputs": []
    },
    {
      "cell_type": "markdown",
      "source": [
        "### 중분류별 수료율 분석"
      ],
      "metadata": {
        "id": "HsUB-nYXO9Yh"
      }
    },
    {
      "cell_type": "code",
      "source": [
        "plt.figure(figsize=(15,10))\n",
        "plt.title(\"중분류별 수료율\")\n",
        "sns.barplot(x=df1.groupby('중분류')['수료여부'].mean().sort_values(ascending=False).index,y=df1.groupby('중분류')['수료여부'].mean().sort_values(ascending=False).values)\n",
        "plt.ylabel(\"수료율\")\n",
        "plt.xticks(rotation= 30)"
      ],
      "metadata": {
        "id": "ichg7uq0Dy0m"
      },
      "execution_count": null,
      "outputs": []
    },
    {
      "cell_type": "markdown",
      "source": [
        "###소분류별 수료율 분석"
      ],
      "metadata": {
        "id": "IisiHFKHPCHn"
      }
    },
    {
      "cell_type": "code",
      "source": [
        "#1.2.1\n",
        "plt.figure(figsize=(15,10))\n",
        "plt.title(\"소분류별 수료율\")\n",
        "sns.barplot(x=df1.groupby('소분류')['수료여부'].mean().sort_values(ascending=False).index,y=df1.groupby('소분류')['수료여부'].mean().sort_values(ascending=False).values)\n",
        "plt.ylabel(\"수료율\")\n",
        "plt.xticks(rotation= 30)"
      ],
      "metadata": {
        "id": "ExTSxaqyAuTn"
      },
      "execution_count": null,
      "outputs": []
    },
    {
      "cell_type": "markdown",
      "source": [
        "### 각각의 소분류에 속한 과목별 수료율\n",
        "- 소분류로 구분하여 과목별 수료율을 조사했습니다.  \n",
        "- 수강한 인원이 30명이상인 과목만 대상입니다."
      ],
      "metadata": {
        "id": "wyy206DNPNs5"
      }
    },
    {
      "cell_type": "markdown",
      "source": [],
      "metadata": {
        "id": "iZpytRRNyS-U"
      }
    },
    {
      "cell_type": "code",
      "source": [
        "plt.subplots(figsize=(20,10))\n",
        "\n",
        "order=df1.groupby('소분류')['수료여부'].mean().sort_values(ascending=False).index\n",
        "소분류 = order[0]\n",
        "data=df1[df1['소분류'] == 소분류].groupby('과정명')['수료여부'].mean()\n",
        "over_30=df1[df1['소분류'] == 소분류].groupby('과정명')['수료여부'].count()>=30\n",
        "data=data[over_30]\n",
        "data=data.sort_values(ascending=False)\n",
        "ex=np.array((data==data.max()).values,dtype=float)\n",
        "ex[ex == 1]=0.2\n",
        "plt.title(\"소분류가 {}인 관측치들의 과목별 수료율\".format(소분류))\n",
        "sns.barplot(y=data.index,x=data)\n",
        "\n"
      ],
      "metadata": {
        "id": "JtnfQVw4KHea"
      },
      "execution_count": null,
      "outputs": []
    },
    {
      "cell_type": "code",
      "source": [
        "plt.subplots(figsize=(20,10))\n",
        "\n",
        "order=df1.groupby('소분류')['수료여부'].mean().sort_values(ascending=False).index\n",
        "소분류 = order[1]\n",
        "data=df1[df1['소분류'] == 소분류].groupby('과정명')['수료여부'].mean()\n",
        "over_30=df1[df1['소분류'] == 소분류].groupby('과정명')['수료여부'].count()>=30\n",
        "data=data[over_30]\n",
        "data=data.sort_values(ascending=False)\n",
        "ex=np.array((data==data.max()).values,dtype=float)\n",
        "ex[ex == 1]=0.2\n",
        "plt.title(\"소분류가 {}인 관측치들의 과목별 수료율\".format(소분류))\n",
        "sns.barplot(y=data.index,x=data)\n",
        "\n"
      ],
      "metadata": {
        "id": "N5mI193HnuXY"
      },
      "execution_count": null,
      "outputs": []
    },
    {
      "cell_type": "code",
      "source": [
        "plt.subplots(figsize=(20,10))\n",
        "\n",
        "order=df1.groupby('소분류')['수료여부'].mean().sort_values(ascending=False).index\n",
        "소분류 = order[2]\n",
        "data=df1[df1['소분류'] == 소분류].groupby('과정명')['수료여부'].mean()\n",
        "over_30=df1[df1['소분류'] == 소분류].groupby('과정명')['수료여부'].count()>=30\n",
        "data=data[over_30]\n",
        "data=data.sort_values(ascending=False)\n",
        "ex=np.array((data==data.max()).values,dtype=float)\n",
        "ex[ex == 1]=0.2\n",
        "plt.title(\"소분류가 {}인 관측치들의 과목별 수료율\".format(소분류))\n",
        "sns.barplot(y=data.index,x=data)\n",
        "\n"
      ],
      "metadata": {
        "id": "Pgd1uvaLEIl8"
      },
      "execution_count": null,
      "outputs": []
    },
    {
      "cell_type": "code",
      "source": [
        "plt.subplots(figsize=(20,10))\n",
        "\n",
        "order=df1.groupby('소분류')['수료여부'].mean().sort_values(ascending=False).index\n",
        "소분류 = order[3]\n",
        "data=df1[df1['소분류'] == 소분류].groupby('과정명')['수료여부'].mean()\n",
        "over_30=df1[df1['소분류'] == 소분류].groupby('과정명')['수료여부'].count()>=30\n",
        "data=data[over_30]\n",
        "data=data.sort_values(ascending=False)\n",
        "ex=np.array((data==data.max()).values,dtype=float)\n",
        "ex[ex == 1]=0.2\n",
        "plt.title(\"소분류가 {}인 관측치들의 과목별 수료율\".format(소분류))\n",
        "sns.barplot(y=data.index,x=data)\n",
        "\n"
      ],
      "metadata": {
        "id": "QGh6V517rUOl"
      },
      "execution_count": null,
      "outputs": []
    },
    {
      "cell_type": "code",
      "source": [
        "#1.2.2\n",
        "plt.subplots(figsize=(20,10))\n",
        "\n",
        "order=df1.groupby('소분류')['수료여부'].mean().sort_values(ascending=False).index\n",
        "소분류 = order[4]\n",
        "data=df1[df1['소분류'] == 소분류].groupby('과정명')['수료여부'].mean()\n",
        "over_30=df1[df1['소분류'] == 소분류].groupby('과정명')['수료여부'].count()>=30\n",
        "data=data[over_30]\n",
        "data=data.sort_values(ascending=False)\n",
        "ex=np.array((data==data.max()).values,dtype=float)\n",
        "ex[ex == 1]=0.2\n",
        "plt.title(\"소분류가 {}인 관측치들의 과목별 수료율\".format(소분류))\n",
        "sns.barplot(y=data.index,x=data)\n",
        "\n"
      ],
      "metadata": {
        "id": "16_LYlx9qwsl"
      },
      "execution_count": null,
      "outputs": []
    },
    {
      "cell_type": "code",
      "source": [
        "#소양인 경우 수강자수가 30명 이상인 과목이 너무 많아서 나눠서그림\n",
        "#수강자수가 300명 이상\n",
        "plt.subplots(figsize=(20,10))\n",
        "\n",
        "order=df1.groupby('소분류')['수료여부'].mean().sort_values(ascending=False).index\n",
        "소분류 = order[5]\n",
        "data=df1[df1['소분류'] == 소분류].groupby('과정명')['수료여부'].mean()\n",
        "over_30=df1[df1['소분류'] == 소분류].groupby('과정명')['수료여부'].count()>=300\n",
        "data=data[over_30]\n",
        "data=data.sort_values(ascending=False)\n",
        "ex=np.array((data==data.max()).values,dtype=float)\n",
        "ex[ex == 1]=0.2\n",
        "plt.title(\"소분류가 {}인 관측치들의 과목별 수료율\".format(소분류))\n",
        "sns.barplot(y=data.index,x=data)\n",
        "\n"
      ],
      "metadata": {
        "id": "68-ylR6JqQLK"
      },
      "execution_count": null,
      "outputs": []
    },
    {
      "cell_type": "code",
      "source": [
        "#수강자수 200명 이상 300명 미만\n",
        "plt.subplots(figsize=(20,10))\n",
        "\n",
        "order=df1.groupby('소분류')['수료여부'].mean().sort_values(ascending=False).index\n",
        "소분류 = order[5]\n",
        "data=df1[df1['소분류'] == 소분류].groupby('과정명')['수료여부'].mean()\n",
        "over_30=(df1[df1['소분류'] == 소분류].groupby('과정명')['수료여부'].count()<300) & (df1[df1['소분류'] == 소분류].groupby('과정명')['수료여부'].count()>=200)\n",
        "data=data[over_30]\n",
        "data=data.sort_values(ascending=False)\n",
        "ex=np.array((data==data.max()).values,dtype=float)\n",
        "ex[ex == 1]=0.2\n",
        "plt.title(\"소분류가 {}인 관측치들의 과목별 수료율\".format(소분류))\n",
        "sns.barplot(y=data.index,x=data)\n",
        "\n"
      ],
      "metadata": {
        "id": "JX5bpZ_YsDaV"
      },
      "execution_count": null,
      "outputs": []
    },
    {
      "cell_type": "code",
      "source": [
        "#수강자수 100명 이상 200명 미만\n",
        "plt.subplots(figsize=(20,10))\n",
        "\n",
        "order=df1.groupby('소분류')['수료여부'].mean().sort_values(ascending=False).index\n",
        "소분류 = order[5]\n",
        "data=df1[df1['소분류'] == 소분류].groupby('과정명')['수료여부'].mean()\n",
        "over_30=(df1[df1['소분류'] == 소분류].groupby('과정명')['수료여부'].count()<200) & (df1[df1['소분류'] == 소분류].groupby('과정명')['수료여부'].count()>=100)\n",
        "data=data[over_30]\n",
        "data=data.sort_values(ascending=False)\n",
        "ex=np.array((data==data.max()).values,dtype=float)\n",
        "ex[ex == 1]=0.2\n",
        "plt.title(\"소분류가 {}인 관측치들의 과목별 수료율\".format(소분류))\n",
        "sns.barplot(y=data.index,x=data)\n",
        "\n",
        "\n",
        "\n"
      ],
      "metadata": {
        "id": "N52gONddHT9e"
      },
      "execution_count": null,
      "outputs": []
    },
    {
      "cell_type": "code",
      "source": [
        "#수강자수 50명 이상 100명 미만\n",
        "plt.subplots(figsize=(20,10))\n",
        "\n",
        "order=df1.groupby('소분류')['수료여부'].mean().sort_values(ascending=False).index\n",
        "소분류 = order[5]\n",
        "data=df1[df1['소분류'] == 소분류].groupby('과정명')['수료여부'].mean()\n",
        "over_30=(df1[df1['소분류'] == 소분류].groupby('과정명')['수료여부'].count()<100) & (df1[df1['소분류'] == 소분류].groupby('과정명')['수료여부'].count()>=50)\n",
        "data=data[over_30]\n",
        "data=data.sort_values(ascending=False)\n",
        "ex=np.array((data==data.max()).values,dtype=float)\n",
        "ex[ex == 1]=0.2\n",
        "plt.title(\"소분류가 {}인 관측치들의 과목별 수료율\".format(소분류))\n",
        "sns.barplot(y=data.index,x=data)\n",
        "\n"
      ],
      "metadata": {
        "id": "MovbLRpPs_pW"
      },
      "execution_count": null,
      "outputs": []
    },
    {
      "cell_type": "code",
      "source": [
        "#수강자수 30명 이상 50명 미만\n",
        "plt.subplots(figsize=(20,10))\n",
        "\n",
        "order=df1.groupby('소분류')['수료여부'].mean().sort_values(ascending=False).index\n",
        "소분류 = order[5]\n",
        "data=df1[df1['소분류'] == 소분류].groupby('과정명')['수료여부'].mean()\n",
        "over_30=(df1[df1['소분류'] == 소분류].groupby('과정명')['수료여부'].count()<50) & (df1[df1['소분류'] == 소분류].groupby('과정명')['수료여부'].count()>=30)\n",
        "data=data[over_30]\n",
        "data=data.sort_values(ascending=False)\n",
        "ex=np.array((data==data.max()).values,dtype=float)\n",
        "ex[ex == 1]=0.2\n",
        "plt.title(\"소분류가 {}인 관측치들의 과목별 수료율\".format(소분류))\n",
        "sns.barplot(y=data.index,x=data)\n",
        "\n"
      ],
      "metadata": {
        "id": "Qaz89ofmtQ2Q"
      },
      "execution_count": null,
      "outputs": []
    },
    {
      "cell_type": "code",
      "source": [
        "plt.subplots(figsize=(20,10))\n",
        "\n",
        "order=df1.groupby('소분류')['수료여부'].mean().sort_values(ascending=False).index\n",
        "소분류 = order[6]\n",
        "data=df1[df1['소분류'] == 소분류].groupby('과정명')['수료여부'].mean()\n",
        "over_30=df1[df1['소분류'] == 소분류].groupby('과정명')['수료여부'].count()>=30\n",
        "data=data[over_30]\n",
        "data=data.sort_values(ascending=False)\n",
        "ex=np.array((data==data.max()).values,dtype=float)\n",
        "ex[ex == 1]=0.2\n",
        "plt.title(\"소분류가 {}인 관측치들의 과목별 수료율\".format(소분류))\n",
        "sns.barplot(y=data.index,x=data)\n",
        "\n"
      ],
      "metadata": {
        "id": "hfCAfmu7CqoX"
      },
      "execution_count": null,
      "outputs": []
    },
    {
      "cell_type": "code",
      "source": [
        "#정책인 경우 수강자수가 30명 이상인 과목이 너무 많아서 나눠서 그림\n",
        "#수강자수 300명 이상 \n",
        "plt.subplots(figsize=(20,10))\n",
        "\n",
        "order=df1.groupby('소분류')['수료여부'].mean().sort_values(ascending=False).index\n",
        "소분류 = order[7]\n",
        "data=df1[df1['소분류'] == 소분류].groupby('과정명')['수료여부'].mean()\n",
        "over_30=(df1[df1['소분류'] == 소분류].groupby('과정명')['수료여부'].count()>=300)\n",
        "data=data[over_30]\n",
        "data=data.sort_values(ascending=False)\n",
        "ex=np.array((data==data.max()).values,dtype=float)\n",
        "ex[ex == 1]=0.2\n",
        "plt.title(\"소분류가 {}인 관측치들의 과목별 수료율\".format(소분류))\n",
        "sns.barplot(y=data.index,x=data)\n",
        "\n"
      ],
      "metadata": {
        "id": "_-CGEE_Rthja"
      },
      "execution_count": null,
      "outputs": []
    },
    {
      "cell_type": "code",
      "source": [
        "#수강자수 200명 이상 300명 미만\n",
        "plt.subplots(figsize=(20,10))\n",
        "\n",
        "order=df1.groupby('소분류')['수료여부'].mean().sort_values(ascending=False).index\n",
        "소분류 = order[7]\n",
        "data=df1[df1['소분류'] == 소분류].groupby('과정명')['수료여부'].mean()\n",
        "over_30=(df1[df1['소분류'] == 소분류].groupby('과정명')['수료여부'].count()<300) & (df1[df1['소분류'] == 소분류].groupby('과정명')['수료여부'].count()>=200)\n",
        "data=data[over_30]\n",
        "data=data.sort_values(ascending=False)\n",
        "ex=np.array((data==data.max()).values,dtype=float)\n",
        "ex[ex == 1]=0.2\n",
        "plt.title(\"소분류가 {}인 관측치들의 과목별 수료율\".format(소분류))\n",
        "sns.barplot(y=data.index,x=data)\n",
        "\n"
      ],
      "metadata": {
        "id": "8_11vifxt0kg"
      },
      "execution_count": null,
      "outputs": []
    },
    {
      "cell_type": "code",
      "source": [
        "#수강자수 100명 이상 200명 미만\n",
        "plt.subplots(figsize=(20,10))\n",
        "\n",
        "order=df1.groupby('소분류')['수료여부'].mean().sort_values(ascending=False).index\n",
        "소분류 = order[7]\n",
        "data=df1[df1['소분류'] == 소분류].groupby('과정명')['수료여부'].mean()\n",
        "over_30=(df1[df1['소분류'] == 소분류].groupby('과정명')['수료여부'].count()<200) & (df1[df1['소분류'] == 소분류].groupby('과정명')['수료여부'].count()>=100)\n",
        "data=data[over_30]\n",
        "data=data.sort_values(ascending=False)\n",
        "ex=np.array((data==data.max()).values,dtype=float)\n",
        "ex[ex == 1]=0.2\n",
        "plt.title(\"소분류가 {}인 관측치들의 과목별 수료율\".format(소분류))\n",
        "sns.barplot(y=data.index,x=data)\n",
        "\n",
        "\n"
      ],
      "metadata": {
        "id": "pIy4Es1VH9fa"
      },
      "execution_count": null,
      "outputs": []
    },
    {
      "cell_type": "code",
      "source": [
        "#수강자수 50명 이상 100명 미만\n",
        "plt.subplots(figsize=(20,10))\n",
        "\n",
        "order=df1.groupby('소분류')['수료여부'].mean().sort_values(ascending=False).index\n",
        "소분류 = order[7]\n",
        "data=df1[df1['소분류'] == 소분류].groupby('과정명')['수료여부'].mean()\n",
        "over_30=(df1[df1['소분류'] == 소분류].groupby('과정명')['수료여부'].count()<100) & (df1[df1['소분류'] == 소분류].groupby('과정명')['수료여부'].count()>=50)\n",
        "data=data[over_30]\n",
        "data=data.sort_values(ascending=False)\n",
        "ex=np.array((data==data.max()).values,dtype=float)\n",
        "ex[ex == 1]=0.2\n",
        "plt.title(\"소분류가 {}인 관측치들의 과목별 수료율\".format(소분류))\n",
        "sns.barplot(y=data.index,x=data)\n",
        "\n",
        "\n"
      ],
      "metadata": {
        "id": "AGJdoSWKILeX"
      },
      "execution_count": null,
      "outputs": []
    },
    {
      "cell_type": "code",
      "source": [
        "#수강자수 30명 이상 50명 미만\n",
        "plt.subplots(figsize=(20,10))\n",
        "\n",
        "order=df1.groupby('소분류')['수료여부'].mean().sort_values(ascending=False).index\n",
        "소분류 = order[7]\n",
        "data=df1[df1['소분류'] == 소분류].groupby('과정명')['수료여부'].mean()\n",
        "over_30=(df1[df1['소분류'] == 소분류].groupby('과정명')['수료여부'].count()<50) & (df1[df1['소분류'] == 소분류].groupby('과정명')['수료여부'].count()>=30)\n",
        "data=data[over_30]\n",
        "data=data.sort_values(ascending=False)\n",
        "ex=np.array((data==data.max()).values,dtype=float)\n",
        "ex[ex == 1]=0.2\n",
        "plt.title(\"소분류가 {}인 관측치들의 과목별 수료율\".format(소분류))\n",
        "sns.barplot(y=data.index,x=data)\n",
        "\n",
        "\n"
      ],
      "metadata": {
        "id": "vJSFuYjbucD8"
      },
      "execution_count": null,
      "outputs": []
    },
    {
      "cell_type": "code",
      "source": [
        "#1.2.3\n",
        "plt.subplots(figsize=(20,10))\n",
        "\n",
        "order=df1.groupby('소분류')['수료여부'].mean().sort_values(ascending=False).index\n",
        "소분류 = order[8]\n",
        "data=df1[df1['소분류'] == 소분류].groupby('과정명')['수료여부'].mean()\n",
        "over_30=df1[df1['소분류'] == 소분류].groupby('과정명')['수료여부'].count()>=30\n",
        "data=data[over_30]\n",
        "data=data.sort_values(ascending=False)\n",
        "ex=np.array((data==data.max()).values,dtype=float)\n",
        "ex[ex == 1]=0.2\n",
        "plt.title(\"소분류가 {}인 관측치들의 과목별 수료율\".format(소분류))\n",
        "sns.barplot(y=data.index,x=data)\n",
        "\n"
      ],
      "metadata": {
        "id": "iO8rKYlnIKyi"
      },
      "execution_count": null,
      "outputs": []
    },
    {
      "cell_type": "markdown",
      "source": [
        "# 3.  3. 수료자 기준 성인지(남‧녀) 통계 분석\n",
        "  - 전과정 수료자 성비 분석 ( 1. 과정별 남‧녀 비율 비교 )\n",
        "  - 과정별 수료자 성비 분석 ( 1. 과정별 남‧녀 비율 비교 )"
      ],
      "metadata": {
        "id": "aSB2QGua58Yc"
      }
    },
    {
      "cell_type": "markdown",
      "source": [
        "##전라남도 수료기록 분석"
      ],
      "metadata": {
        "id": "-B0PgUKYIttb"
      }
    },
    {
      "cell_type": "markdown",
      "source": [
        "### 데이터 전처리"
      ],
      "metadata": {
        "id": "oHcFUY7gMHKW"
      }
    },
    {
      "cell_type": "code",
      "source": [
        "전라남도 = dataset1.copy()\n",
        "전라남도['수료여부']=전라남도['수료여부'].map({\"수료\":1,\"미수료\":0,\"취소\":2,\"진행중\":3,\"미승인\":4})"
      ],
      "metadata": {
        "id": "ah7DUNBd4rNp"
      },
      "execution_count": null,
      "outputs": []
    },
    {
      "cell_type": "code",
      "source": [
        "#수료여부가 널값인 관측치들은 제거\n",
        "전라남도=전라남도.drop(index=전라남도[pd.isna(전라남도.수료여부)].index.values)\n",
        "전라남도.reset_index(drop=True)\n",
        "전라남도=전라남도.astype({'수료여부':int})"
      ],
      "metadata": {
        "id": "na-G-N3kDDHV"
      },
      "execution_count": null,
      "outputs": []
    },
    {
      "cell_type": "code",
      "source": [
        "전라남도['성별']=전라남도['성별'].map({'남성':1,'여성':0})"
      ],
      "metadata": {
        "id": "_qu77VuTNk1N"
      },
      "execution_count": null,
      "outputs": []
    },
    {
      "cell_type": "code",
      "source": [
        "전라남도=전라남도[(전라남도.수료여부 == 1) | (전라남도.수료여부 == 0)]\n",
        "전라남도 = 전라남도.reset_index(drop=True)"
      ],
      "metadata": {
        "id": "1zckCnhfZOdi"
      },
      "execution_count": null,
      "outputs": []
    },
    {
      "cell_type": "markdown",
      "source": [
        "###전과정 수료자 성비 분석 ( 1. 과정별 남‧녀 비율 비교 )"
      ],
      "metadata": {
        "id": "RXDbQNGvN__L"
      }
    },
    {
      "cell_type": "code",
      "source": [
        "d=전라남도[['성별','수료여부']].groupby('성별')['수료여부'].mean().sort_values(ascending=False)\n",
        "map={0:'여성',1:'남성'}\n",
        "plt.figure(figsize=(10,7))\n",
        "x_name = [map[i] for i in d.index]\n",
        "ax=sns.barplot(x=x_name,y=d)\n",
        "ax.set_title('성별 수료율')\n",
        "ax.set_ylabel('수료율')\n",
        "ax.set_xlabel('성별')\n",
        "print('남자인 경우 수료율 : {:.2f}'.format(d[1]))\n",
        "print('여자인 경우 수료율 : {:.2f}'.format(d[0]))"
      ],
      "metadata": {
        "id": "lSOKO_H3L0RK"
      },
      "execution_count": null,
      "outputs": []
    },
    {
      "cell_type": "markdown",
      "source": [
        "###과정별 수료자 성비 분석 ( 1. 과정별 남‧녀 비율 비교 )"
      ],
      "metadata": {
        "id": "o54DQRBrXIyS"
      }
    },
    {
      "cell_type": "code",
      "source": [
        "bool_ind=(전라남도.groupby('과정명').count()['성명']<30)\n",
        "under_30=전라남도.groupby('과정명').count()['성명'][bool_ind].index.values\n",
        "print('30명 미만이 수강하는 과목',under_30)\n",
        "df=전라남도.copy()\n",
        "df=df.set_index('과정명')\n",
        "print('\\n수강생이 30명 미만인 과정 삭제전',df.shape)\n",
        "df=df.drop(index=under_30)\n",
        "print('수강생이 30명 미만인 과정 삭제후',df.shape)"
      ],
      "metadata": {
        "id": "hbui87-KXKLr"
      },
      "execution_count": null,
      "outputs": []
    },
    {
      "cell_type": "code",
      "source": [
        "df=df.reset_index()\n",
        "df"
      ],
      "metadata": {
        "id": "a8snW4GlYiJF"
      },
      "execution_count": null,
      "outputs": []
    },
    {
      "cell_type": "code",
      "source": [
        "data=df.groupby(['과정명','성별'])['수료여부'].mean().to_frame().수료여부\n",
        "over_30_과정명=data.to_frame().reset_index().과정명.unique()\n",
        "diff=[]\n",
        "for i in range(0,len(data),2):\n",
        "  diff.append(data.values[i]-data.values[i+1])\n",
        "len(diff)"
      ],
      "metadata": {
        "id": "7AJ8Twr95j8R"
      },
      "execution_count": null,
      "outputs": []
    },
    {
      "cell_type": "code",
      "source": [
        "#-인 경우 남자의 수료율이 더 많은 과목\n",
        "#+인 경우 여자의 수료율이 더 많은 과목\n",
        "diff_df=pd.DataFrame({'과정명':over_30_과정명,'차이':diff})\n",
        "diff_df['절댓값 차이']=abs(diff_df['차이'])\n",
        "diff_df=diff_df.sort_values('절댓값 차이',ascending=False)"
      ],
      "metadata": {
        "id": "qc_nAuDZ7B-_"
      },
      "execution_count": null,
      "outputs": []
    },
    {
      "cell_type": "code",
      "source": [
        "diff_df"
      ],
      "metadata": {
        "id": "tExKxHft9iww"
      },
      "execution_count": null,
      "outputs": []
    },
    {
      "cell_type": "code",
      "source": [
        "plt.figure(figsize=(15,10))\n",
        "plt.title('성비차이가 많이나는 과정 상위 10개')\n",
        "sns.barplot(data=diff_df.iloc[:10,:],x='절댓값 차이',y='과정명')"
      ],
      "metadata": {
        "id": "jh8Crv6x8VmS"
      },
      "execution_count": null,
      "outputs": []
    },
    {
      "cell_type": "code",
      "source": [
        "diff_df[diff_df['차이']<0]"
      ],
      "metadata": {
        "id": "WsKlD4ys_2XH"
      },
      "execution_count": null,
      "outputs": []
    },
    {
      "cell_type": "code",
      "source": [
        "plt.subplots(1,2,figsize=(20,10))\n",
        "plt.subplot(1,2,1)\n",
        "plt.title('남자가 더 많이 듣는 과정 상위 10개')\n",
        "sns.barplot(data=diff_df[diff_df['차이']<0].iloc[:10,:],x='절댓값 차이',y='과정명')\n",
        "\n",
        "\n",
        "data2=diff_df[diff_df['차이']<0].iloc[-10:,:].sort_values('절댓값 차이')\n",
        "plt.subplot(1,2,2)\n",
        "plt.title('남자가 더 많이 듣는 과정 하위 10개')\n",
        "sns.barplot(data=data2,x='절댓값 차이',y='과정명')"
      ],
      "metadata": {
        "id": "j08wkyoB7MZr"
      },
      "execution_count": null,
      "outputs": []
    },
    {
      "cell_type": "code",
      "source": [
        "#여자가 많이듣는 과목수는 남자가 많이듣는 과목수보다 적음\n",
        "#남자인 관측치가 더 많기 때문이라고 보임\n",
        "diff_df[diff_df['차이']>0]"
      ],
      "metadata": {
        "id": "7zVzDu_p-hWN"
      },
      "execution_count": null,
      "outputs": []
    },
    {
      "cell_type": "code",
      "source": [
        "print('데이터에서 \\n남자인 관측치의 수 : {}\\n여자인 관측치의 수 : {}'.format(sum(df.성별==1),len(df)-sum(df.성별==1)))\n",
        "plt.figure(figsize=(15,10))\n",
        "plt.title('전라남도 수료기록 데이터의 남녀 비율')\n",
        "plt.pie(x=전라남도.groupby('성별').count()['수료여부'],explode=[0,0.1],autopct='%1.2f%%',shadow=True,labels=['여성','남성'])"
      ],
      "metadata": {
        "id": "8CeoEtmDDJrC"
      },
      "execution_count": null,
      "outputs": []
    },
    {
      "cell_type": "code",
      "source": [
        "plt.figure(figsize=(20,10))\n",
        "plt.subplot(1,2,1)\n",
        "plt.title('여자가 더 많이 듣는 과정 상위 10개')\n",
        "sns.barplot(data=diff_df[diff_df['차이']>0].iloc[:10,:],x='절댓값 차이',y='과정명')\n",
        "\n",
        "data2=diff_df[diff_df['차이']>0].iloc[-10:,:].sort_values('절댓값 차이')\n",
        "plt.subplot(1,2,2)\n",
        "plt.title('여자가 더 많이 듣는 과정 하위 10개')\n",
        "sns.barplot(data=data2,x='절댓값 차이',y='과정명')"
      ],
      "metadata": {
        "id": "gd45HMWK-R3O"
      },
      "execution_count": null,
      "outputs": []
    },
    {
      "cell_type": "markdown",
      "source": [
        "## 행정안전부 수료기록 분석"
      ],
      "metadata": {
        "id": "b2oQNjgEE3Gw"
      }
    },
    {
      "cell_type": "code",
      "source": [
        "df1['성별']=df1.성별.map({'남성':1,'여성':0})\n",
        "df1"
      ],
      "metadata": {
        "id": "lMr7a4jyLMO6"
      },
      "execution_count": null,
      "outputs": []
    },
    {
      "cell_type": "code",
      "source": [
        "under_30_과정명=df1.groupby('과정명').count()['수료여부'][df1.groupby('과정명').count()['수료여부']<30].index\n",
        "print('30명 미만이 수강하는 과목',under_30_과정명)\n",
        "df4=df1.copy()\n",
        "df4=df4.set_index('과정명')\n",
        "print('\\n수강생이 30명 미만인 과정 삭제 후',df4.shape)\n",
        "df4=df4.drop(index=under_30_과정명)\n",
        "print('수강생이 30명 미만인 과정 삭제 후',df4.shape)"
      ],
      "metadata": {
        "id": "bZt7y9ViGpnX"
      },
      "execution_count": null,
      "outputs": []
    },
    {
      "cell_type": "code",
      "source": [
        "df4=df4.reset_index()\n",
        "df4"
      ],
      "metadata": {
        "id": "aNYZZ4KMGwmo"
      },
      "execution_count": null,
      "outputs": []
    },
    {
      "cell_type": "code",
      "source": [
        "data=df4.groupby(['과정명','성별'])['수료여부'].mean().to_frame().수료여부\n",
        "over_30_과정명=data.to_frame().reset_index().과정명.unique()\n",
        "diff=[]\n",
        "for i in range(0,len(data),2):\n",
        "  diff.append(data.values[i]-data.values[i+1])\n",
        "len(diff)"
      ],
      "metadata": {
        "id": "FpxsevewIDNh"
      },
      "execution_count": null,
      "outputs": []
    },
    {
      "cell_type": "code",
      "source": [
        "data=df4.groupby(['과정명','성별'])['수료여부'].mean().to_frame().수료여부\n",
        "data"
      ],
      "metadata": {
        "id": "sQz7EWqNLIKr"
      },
      "execution_count": null,
      "outputs": []
    },
    {
      "cell_type": "code",
      "source": [
        "#-인 경우 남자의 수료율이 더 많은 과목\n",
        "#+인 경우 여자의 수료율이 더 많은 과목\n",
        "diff_df=pd.DataFrame({'과정명':over_30_과정명,'차이':diff})\n",
        "diff_df['절댓값 차이']=abs(diff_df['차이'])\n",
        "diff_df=diff_df.sort_values('절댓값 차이',ascending=False)"
      ],
      "metadata": {
        "id": "Xw2f8ztHIORo"
      },
      "execution_count": null,
      "outputs": []
    },
    {
      "cell_type": "code",
      "source": [
        "diff_df"
      ],
      "metadata": {
        "id": "U3XoHqPDIRoh"
      },
      "execution_count": null,
      "outputs": []
    },
    {
      "cell_type": "code",
      "source": [
        "plt.figure(figsize=(15,10))\n",
        "plt.title('성비차이가 많이나는 과정 상위 10개')\n",
        "sns.barplot(data=diff_df.iloc[:10,:],x='절댓값 차이',y='과정명')"
      ],
      "metadata": {
        "id": "EVr1icLEIa_Z"
      },
      "execution_count": null,
      "outputs": []
    },
    {
      "cell_type": "code",
      "source": [
        "#남성이 더 많이듣는 과정의 수\n",
        "diff_df[diff_df['차이']<0].shape"
      ],
      "metadata": {
        "id": "MWl1UhNYIisc"
      },
      "execution_count": null,
      "outputs": []
    },
    {
      "cell_type": "code",
      "source": [
        "plt.subplots(1,2,figsize=(20,10))\n",
        "plt.subplot(1,2,1)\n",
        "plt.title('남자가 더 많이 듣는 과정 상위 10개')\n",
        "sns.barplot(data=diff_df[diff_df['차이']<0].iloc[:10,:],x='절댓값 차이',y='과정명')\n",
        "\n",
        "\n",
        "data2=diff_df[diff_df['차이']<0].iloc[-10:,:].sort_values('절댓값 차이')\n",
        "plt.subplot(1,2,2)\n",
        "plt.title('남자가 더 많이 듣는 과정 하위 10개')\n",
        "sns.barplot(data=data2,x='절댓값 차이',y='과정명')"
      ],
      "metadata": {
        "id": "5aCcF374ImWH"
      },
      "execution_count": null,
      "outputs": []
    },
    {
      "cell_type": "code",
      "source": [
        "#여자가 많이듣는 과목수는 남자가 많이듣는 과목수보다 적음\n",
        "#남자인 관측치가 더 많기 때문이라고 보임\n",
        "diff_df[diff_df['차이']>0]"
      ],
      "metadata": {
        "id": "h1lSARPrJR2r"
      },
      "execution_count": null,
      "outputs": []
    },
    {
      "cell_type": "code",
      "source": [
        "행정안전부.groupby('성별').count()['수료여부']"
      ],
      "metadata": {
        "id": "xLF1llQiL4bP"
      },
      "execution_count": null,
      "outputs": []
    },
    {
      "cell_type": "code",
      "source": [
        "print('데이터에서 \\n남자인 관측치의 수 : {}\\n여자인 관측치의 수 : {}'.format(sum(df4.성별==1),len(df4)-sum(df4.성별==1)))\n",
        "plt.figure(figsize=(15,10))\n",
        "plt.title('행정안전부 수료기록 데이터의 남녀 비율')\n",
        "plt.pie(x=행정안전부.groupby('성별').count()['수료여부'],explode=[0,0.1],autopct='%1.2f%%',shadow=True,labels=['남성','여성'])"
      ],
      "metadata": {
        "id": "5J3svYBEI1fI"
      },
      "execution_count": null,
      "outputs": []
    },
    {
      "cell_type": "code",
      "source": [
        "plt.figure(figsize=(20,10))\n",
        "plt.subplot(1,2,1)\n",
        "plt.title('여자가 더 많이 듣는 과정 상위 10개')\n",
        "sns.barplot(data=diff_df[diff_df['차이']>0].iloc[:10,:],x='절댓값 차이',y='과정명')\n",
        "\n",
        "data2=diff_df[diff_df['차이']>0].iloc[-10:,:].sort_values('절댓값 차이')\n",
        "plt.subplot(1,2,2)\n",
        "plt.title('여자가 더 많이 듣는 과정 하위 10개')\n",
        "sns.barplot(data=data2,x='절댓값 차이',y='과정명')"
      ],
      "metadata": {
        "id": "0J1d6w0pLvm3"
      },
      "execution_count": null,
      "outputs": []
    },
    {
      "cell_type": "code",
      "source": [],
      "metadata": {
        "id": "A-cwT87fI7ZH"
      },
      "execution_count": null,
      "outputs": []
    }
  ]
}